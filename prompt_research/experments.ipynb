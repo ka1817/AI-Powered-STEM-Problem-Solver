{
 "cells": [
  {
   "cell_type": "code",
   "execution_count": 3,
   "id": "0d9b8082",
   "metadata": {},
   "outputs": [
    {
     "data": {
      "text/plain": [
       "True"
      ]
     },
     "execution_count": 3,
     "metadata": {},
     "output_type": "execute_result"
    }
   ],
   "source": [
    "from dotenv import load_dotenv \n",
    "load_dotenv()"
   ]
  },
  {
   "cell_type": "code",
   "execution_count": 4,
   "id": "d53bfd25",
   "metadata": {},
   "outputs": [],
   "source": [
    "from langchain_groq import ChatGroq\n",
    "import os\n",
    "GROQ_API_KEY=os.getenv(\"GROQ_API_KEY\")\n",
    "llm=ChatGroq(api_key=GROQ_API_KEY,model=\"llama-3.3-70b-versatile\")"
   ]
  },
  {
   "cell_type": "code",
   "execution_count": 23,
   "id": "7facd96b",
   "metadata": {},
   "outputs": [],
   "source": [
    "from langchain.prompts import PromptTemplate\n",
    "\n",
    "icl_math_prompt = PromptTemplate(\n",
    "    input_variables=[\"problem\"],\n",
    "    template=\"\"\"\n",
    "You are a helpful math assistant. Use the following examples to solve similar math problems.\n",
    "\n",
    "Example 1:\n",
    "Problem: What is the sum of 12 and 8?\n",
    "Answer: 12 + 8 = 20\n",
    "\n",
    "Example 2:\n",
    "Problem: What is 25 times 4?\n",
    "Answer: 25 × 4 = 100\n",
    "\n",
    "Example 3:\n",
    "Problem: What is the area of a rectangle with a length of 6 and width of 3?\n",
    "Answer: Area = Length × Width = 6 × 3 = 18\n",
    "\n",
    "Now, use the pattern from these examples to solve the new problem.\n",
    "\n",
    "Problem: {problem}\n",
    "Answer:\n",
    "\"\"\"\n",
    ")\n"
   ]
  },
  {
   "cell_type": "code",
   "execution_count": 24,
   "id": "3bbef24f",
   "metadata": {},
   "outputs": [],
   "source": [
    "from langchain.chains import LLMChain\n",
    "chain=LLMChain(llm=llm,prompt=icl_math_prompt)"
   ]
  },
  {
   "cell_type": "code",
   "execution_count": 25,
   "id": "e6731cbc",
   "metadata": {},
   "outputs": [],
   "source": [
    "result=chain.invoke({'problem':\"what is addition and multiplication of 4 ,5\"})"
   ]
  },
  {
   "cell_type": "code",
   "execution_count": 26,
   "id": "d4d6c864",
   "metadata": {},
   "outputs": [
    {
     "name": "stdout",
     "output_type": "stream",
     "text": [
      "To solve the problem, we need to follow the pattern from the examples. \n",
      "\n",
      "First, we need to calculate the addition of 4 and 5:\n",
      "4 + 5 = 9\n",
      "\n",
      "Next, we need to calculate the multiplication of 4 and 5:\n",
      "4 × 5 = 20\n",
      "\n",
      "So, the answer is: \n",
      "Addition: 4 + 5 = 9\n",
      "Multiplication: 4 × 5 = 20\n"
     ]
    }
   ],
   "source": [
    "print(result['text'])"
   ]
  },
  {
   "cell_type": "markdown",
   "id": "670aea80",
   "metadata": {},
   "source": [
    "Chain-of-Thought-Prompting"
   ]
  },
  {
   "cell_type": "code",
   "execution_count": 27,
   "id": "304413ac",
   "metadata": {},
   "outputs": [],
   "source": [
    "from langchain.prompts import PromptTemplate\n",
    "\n",
    "cot_prompt = PromptTemplate(\n",
    "    input_variables=[\"problem\"],\n",
    "    template=\"\"\"\n",
    "You are a helpful and careful math problem solver. Your task is to solve problems step by step, showing all the reasoning clearly before giving the final answer.\n",
    "\n",
    "Instructions:\n",
    "- Restate key facts from the problem.\n",
    "- Identify what needs to be found.\n",
    "- Work through each step logically and sequentially.\n",
    "- Show all calculations.\n",
    "- Clearly present the final answer at the end.\n",
    "\n",
    "Problem: {problem}\n",
    "\n",
    "Let's think step by step.\n",
    "\"\"\"\n",
    ")\n"
   ]
  },
  {
   "cell_type": "code",
   "execution_count": 28,
   "id": "1cb2adf8",
   "metadata": {},
   "outputs": [],
   "source": [
    "from langchain.chains import LLMChain\n",
    "chain=LLMChain(llm=llm,prompt=cot_prompt)"
   ]
  },
  {
   "cell_type": "code",
   "execution_count": 29,
   "id": "6b290d14",
   "metadata": {},
   "outputs": [],
   "source": [
    "result=chain.invoke({'problem':\"what is addition and multiplication of 4 ,5\"})"
   ]
  },
  {
   "cell_type": "code",
   "execution_count": 30,
   "id": "4184c3b1",
   "metadata": {},
   "outputs": [
    {
     "name": "stdout",
     "output_type": "stream",
     "text": [
      "To solve this problem, let's break it down into the required steps.\n",
      "\n",
      "**Step 1: Restate key facts from the problem.**\n",
      "We are given two numbers: 4 and 5. We need to perform two operations: addition and multiplication.\n",
      "\n",
      "**Step 2: Identify what needs to be found.**\n",
      "We need to find the result of adding 4 and 5, and the result of multiplying 4 and 5.\n",
      "\n",
      "**Step 3: Perform the addition.**\n",
      "Addition is the operation of combining two or more numbers to get a total or a sum. To add 4 and 5, we simply combine them:\n",
      "4 + 5 = 9\n",
      "\n",
      "**Step 4: Perform the multiplication.**\n",
      "Multiplication is the operation of repeating a number a certain number of times. To multiply 4 and 5, we repeat the number 4 five times:\n",
      "4 * 5 = 4 + 4 + 4 + 4 + 4 = 20\n",
      "\n",
      "**Step 5: Present the results.**\n",
      "The result of adding 4 and 5 is 9.\n",
      "The result of multiplying 4 and 5 is 20.\n",
      "\n",
      "**Final Answer:**\n",
      "The addition of 4 and 5 is 9, and the multiplication of 4 and 5 is 20.\n"
     ]
    }
   ],
   "source": [
    "print(result['text'])"
   ]
  },
  {
   "cell_type": "markdown",
   "id": "4c6425c2",
   "metadata": {},
   "source": [
    "optimized c-o-t"
   ]
  },
  {
   "cell_type": "code",
   "execution_count": 35,
   "id": "14445880",
   "metadata": {},
   "outputs": [],
   "source": [
    "optimized_prompt = PromptTemplate(\n",
    "    input_variables=[\"problem\"],\n",
    "    template=(\n",
    "        \"You are an advanced AI tutor specializing in solving **math and physics problems** step by step. \"\n",
    "        \"Your goal is to **guide students logically**, ensuring they **understand every step** and its relevance. \"\n",
    "        \"Think like a **patient teacher** who explains concepts with clarity.\\n\\n\"\n",
    "\n",
    "        \"📚 **Guidelines for solving problems:**\\n\"\n",
    "        \"1️⃣ **Understanding the Problem:**\\n\"\n",
    "        \"   - Restate the problem in simple terms.\\n\"\n",
    "        \"   - Identify what is given and what needs to be found.\\n\\n\"\n",
    "\n",
    "        \"2️⃣ **Relevant Concepts & Formulas:**\\n\"\n",
    "        \"   - List the key principles, equations, or theorems needed to solve the problem.\\n\"\n",
    "        \"   - Explain why they are relevant.\\n\\n\"\n",
    "\n",
    "        \"3️⃣ **Step-by-Step Solution:**\\n\"\n",
    "        \"   - Break down the solution into small, logical steps.\\n\"\n",
    "        \"   - Show calculations with proper notation.\\n\"\n",
    "        \"   - Explain **each transformation, substitution, or simplification** clearly.\\n\\n\"\n",
    "\n",
    "        \"4️⃣ **Final Answer:**\\n\"\n",
    "        \"   - ✅ Box or highlight the final result.\\n\"\n",
    "        \"   - Include units where applicable.\\n\\n\"\n",
    "\n",
    "        \"5️⃣ **Verification & Insights:**\\n\"\n",
    "        \"   - 🔄 Verify the answer using an alternative method (if possible).\\n\"\n",
    "        \"   - 🏗️ Provide a real-world analogy or intuition behind the result.\\n\\n\"\n",
    "\n",
    "        \"🎯 **Now, solve the following problem using this structured approach:**\\n\"\n",
    "        \"**Problem:** {problem}\\n\\n\"\n",
    "        \"**Solution:**\"\n",
    "    )\n",
    ")"
   ]
  },
  {
   "cell_type": "code",
   "execution_count": 36,
   "id": "a55a593d",
   "metadata": {},
   "outputs": [],
   "source": [
    "from langchain.chains import LLMChain\n",
    "chain=LLMChain(llm=llm,prompt=optimized_prompt)"
   ]
  },
  {
   "cell_type": "code",
   "execution_count": 37,
   "id": "45e55ec9",
   "metadata": {},
   "outputs": [],
   "source": [
    "result=chain.invoke({'problem':\"what is addition and multiplication of 4 ,5\"})"
   ]
  },
  {
   "cell_type": "code",
   "execution_count": 38,
   "id": "ec18e3c3",
   "metadata": {},
   "outputs": [
    {
     "name": "stdout",
     "output_type": "stream",
     "text": [
      "📚 **Understanding the Problem:**\n",
      "The problem asks us to find the result of two basic arithmetic operations: addition and multiplication of the numbers 4 and 5. In simple terms, we need to calculate 4 + 5 and 4 * 5.\n",
      "\n",
      "Given:\n",
      "- Two numbers: 4 and 5\n",
      "Unknown quantities:\n",
      "- The sum of 4 and 5\n",
      "- The product of 4 and 5\n",
      "\n",
      "📝 **Relevant Concepts & Formulas:**\n",
      "The key principles needed here are the definitions of addition and multiplication:\n",
      "- Addition is the operation of combining two or more numbers to get a total or a sum. It is denoted by the \"+\" symbol.\n",
      "- Multiplication is the operation of repeating a number a certain number of times, equal to another number. It is denoted by the \"*\" symbol (or sometimes \"×\" in other contexts).\n",
      "\n",
      "These concepts are relevant because they directly answer the problem's request to perform these operations on 4 and 5.\n",
      "\n",
      "📊 **Step-by-Step Solution:**\n",
      "1. **Addition:**\n",
      "   - We start with the numbers 4 and 5.\n",
      "   - To find the sum, we combine these numbers: 4 + 5.\n",
      "   - Performing the operation gives us: 4 + 5 = 9.\n",
      "\n",
      "2. **Multiplication:**\n",
      "   - We take the numbers 4 and 5 again.\n",
      "   - To find the product, we repeat one number as many times as the other: 4 * 5 means we add 4 together 5 times, or 5 together 4 times.\n",
      "   - Performing the operation gives us: 4 * 5 = 4 + 4 + 4 + 4 + 4 = 20.\n",
      "\n",
      "**Final Answer:**\n",
      "✅ For addition: **9**\n",
      "✅ For multiplication: **20**\n",
      "\n",
      "🔄 **Verification & Insights:**\n",
      "- **Verification:** We can verify these results using a calculator or by manually counting for the addition (e.g., counting blocks) and for multiplication (e.g., arranging items into rows and columns).\n",
      "- **Insights:** In real-world scenarios, understanding addition and multiplication is crucial for tasks like budgeting (addition) and scaling up production (multiplication). For example, if you have 4 boxes with 5 items in each, multiplication tells you that you have 20 items in total.\n"
     ]
    }
   ],
   "source": [
    "print(result['text'])"
   ]
  },
  {
   "cell_type": "markdown",
   "id": "4bba74c9",
   "metadata": {},
   "source": [
    "Tree-of-Thought Prompting"
   ]
  },
  {
   "cell_type": "code",
   "execution_count": 31,
   "id": "dd40d76b",
   "metadata": {},
   "outputs": [],
   "source": [
    "from langchain.prompts import PromptTemplate\n",
    "\n",
    "tot_prompt = PromptTemplate(\n",
    "    input_variables=[\"problem\"],\n",
    "    template=\"\"\"\n",
    "You are a strategic problem solver. Your job is to explore and compare multiple reasoning paths for solving complex problems. For each problem, consider alternative approaches, work through them in detail, and then choose the best one.\n",
    "\n",
    "Instructions:\n",
    "1. Understand and restate the problem.\n",
    "2. Propose at least two distinct solution paths.\n",
    "3. Think through each path step by step.\n",
    "4. Compare and evaluate which path is better or more efficient.\n",
    "5. Clearly state the final answer with justification.\n",
    "\n",
    "Problem: {problem}\n",
    "\n",
    "Let's explore different paths to solve this.\n",
    "\"\"\"\n",
    ")\n"
   ]
  },
  {
   "cell_type": "code",
   "execution_count": 32,
   "id": "ff7a8ae1",
   "metadata": {},
   "outputs": [],
   "source": [
    "from langchain.chains import LLMChain\n",
    "chain=LLMChain(llm=llm,prompt=tot_prompt)"
   ]
  },
  {
   "cell_type": "code",
   "execution_count": 33,
   "id": "8e9e62ed",
   "metadata": {},
   "outputs": [],
   "source": [
    "result=chain.invoke({'problem':\"what is addition and multiplication of 4 ,5\"})"
   ]
  },
  {
   "cell_type": "code",
   "execution_count": 34,
   "id": "87aced67",
   "metadata": {},
   "outputs": [
    {
     "name": "stdout",
     "output_type": "stream",
     "text": [
      "**Restating the Problem:**\n",
      "The problem requires finding the result of two basic arithmetic operations: addition and multiplication, using the numbers 4 and 5.\n",
      "\n",
      "**Proposing Solution Paths:**\n",
      "There are two straightforward paths to solve this problem:\n",
      "\n",
      "### Path 1: Direct Calculation\n",
      "This path involves directly applying the definitions of addition and multiplication to the numbers 4 and 5.\n",
      "\n",
      "### Path 2: Using Arithmetic Properties\n",
      "This path involves using known properties of arithmetic, such as the commutative property of addition and multiplication, to calculate the results.\n",
      "\n",
      "**Thinking Through Each Path:**\n",
      "\n",
      "### Path 1: Direct Calculation\n",
      "1. **Addition:** To find the sum of 4 and 5, we directly add the two numbers together. \n",
      "   - 4 + 5 = 9\n",
      "2. **Multiplication:** To find the product of 4 and 5, we directly multiply the two numbers.\n",
      "   - 4 × 5 = 20\n",
      "\n",
      "### Path 2: Using Arithmetic Properties\n",
      "1. **Addition:** The commutative property of addition states that the order of the numbers does not change the result. Thus, we can add 5 and 4 and get the same result as adding 4 and 5.\n",
      "   - 5 + 4 = 9\n",
      "2. **Multiplication:** Similarly, the commutative property of multiplication states that the order of the numbers does not change the product. So, we multiply 5 by 4 to get the same result as multiplying 4 by 5.\n",
      "   - 5 × 4 = 20\n",
      "\n",
      "**Comparing and Evaluating the Paths:**\n",
      "Both paths yield the same results for both operations:\n",
      "- Addition: 4 + 5 = 5 + 4 = 9\n",
      "- Multiplication: 4 × 5 = 5 × 4 = 20\n",
      "\n",
      "However, **Path 1: Direct Calculation** is more straightforward and efficient because it directly applies the basic definitions of addition and multiplication without considering the commutative properties. This makes it slightly simpler and faster for basic arithmetic operations.\n",
      "\n",
      "**Final Answer:**\n",
      "The results of the operations are:\n",
      "- Addition: 9\n",
      "- Multiplication: 20\n",
      "\n",
      "**Justification:**\n",
      "Both solution paths are valid and lead to the same results. However, for simple arithmetic operations like these, direct calculation is the most efficient approach.\n"
     ]
    }
   ],
   "source": [
    "print(result['text'])"
   ]
  },
  {
   "cell_type": "code",
   "execution_count": null,
   "id": "2ef5a0d4",
   "metadata": {},
   "outputs": [],
   "source": []
  }
 ],
 "metadata": {
  "kernelspec": {
   "display_name": "Python 3",
   "language": "python",
   "name": "python3"
  },
  "language_info": {
   "codemirror_mode": {
    "name": "ipython",
    "version": 3
   },
   "file_extension": ".py",
   "mimetype": "text/x-python",
   "name": "python",
   "nbconvert_exporter": "python",
   "pygments_lexer": "ipython3",
   "version": "3.10.16"
  }
 },
 "nbformat": 4,
 "nbformat_minor": 5
}
